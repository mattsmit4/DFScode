{
  "nbformat": 4,
  "nbformat_minor": 0,
  "metadata": {
    "colab": {
      "provenance": [],
      "machine_shape": "hm",
      "mount_file_id": "1ybzX-QzDkJmwe7G8QqWC1Y83CJyp-2eJ",
      "authorship_tag": "ABX9TyPKbAfbyDz3DI4aYioevw9T",
      "include_colab_link": true
    },
    "kernelspec": {
      "name": "python3",
      "display_name": "Python 3"
    },
    "language_info": {
      "name": "python"
    }
  },
  "cells": [
    {
      "cell_type": "markdown",
      "metadata": {
        "id": "view-in-github",
        "colab_type": "text"
      },
      "source": [
        "<a href=\"https://colab.research.google.com/github/mattsmit4/DFScode/blob/main/_Main_OwnersBox.ipynb\" target=\"_parent\"><img src=\"https://colab.research.google.com/assets/colab-badge.svg\" alt=\"Open In Colab\"/></a>"
      ]
    },
    {
      "cell_type": "code",
      "execution_count": 1,
      "metadata": {
        "id": "_mJV9m0Ar2xP",
        "colab": {
          "base_uri": "https://localhost:8080/"
        },
        "outputId": "e7e504a6-5fe3-41cf-f928-4dd6e6382a92"
      },
      "outputs": [
        {
          "output_type": "stream",
          "name": "stdout",
          "text": [
            "Looking in indexes: https://pypi.org/simple, https://us-python.pkg.dev/colab-wheels/public/simple/\n",
            "Collecting pulp\n",
            "  Downloading PuLP-2.7.0-py3-none-any.whl (14.3 MB)\n",
            "\u001b[K     |████████████████████████████████| 14.3 MB 12.2 MB/s \n",
            "\u001b[?25hInstalling collected packages: pulp\n",
            "Successfully installed pulp-2.7.0\n"
          ]
        }
      ],
      "source": [
        "pip install pulp"
      ]
    },
    {
      "cell_type": "code",
      "source": [
        "# Importing packages\n",
        "import pandas as pd\n",
        "import numpy as np\n",
        "import matplotlib.pyplot as plt\n",
        "from pulp import *\n",
        "import tensorflow as tf\n",
        "from google.colab import files\n",
        "from keras.models import Sequential\n",
        "from keras.layers import Dense\n",
        "from tensorflow.keras.optimizers import Adam\n",
        "from tensorflow.keras.layers import Dropout\n",
        "from tensorflow.keras.constraints import MaxNorm\n",
        "from sklearn.preprocessing import StandardScaler\n",
        "from sklearn.model_selection import train_test_split\n",
        "import itertools"
      ],
      "metadata": {
        "id": "JeTu69yysvrK"
      },
      "execution_count": 2,
      "outputs": []
    },
    {
      "cell_type": "markdown",
      "source": [
        "***Week Needs Updating***"
      ],
      "metadata": {
        "id": "fEHMcW1os4hQ"
      }
    },
    {
      "cell_type": "code",
      "source": [
        "# Current week in NFL\n",
        "week = 12"
      ],
      "metadata": {
        "id": "jrIbtAd-s472"
      },
      "execution_count": 3,
      "outputs": []
    },
    {
      "cell_type": "code",
      "source": [
        "# Bringing in all the data\n",
        "df_2013 = []\n",
        "for i in range(1, 18):\n",
        "    df = locals()[f'df{i}'] = pd.read_csv(fr\"drive/MyDrive/Fantasy-Football-Coding/Fantasy-Data/OwnersBox/Combined/2013/combined-wk{i}.csv\")\n",
        "    df_2013.append(df)\n",
        "df_2013 = pd.concat(df_2013)\n",
        "df_2013 = df_2013.loc[df_2013.Position.isin(['QB', 'RB', 'WR', 'TE'])]\n",
        "\n",
        "df_2014 = []\n",
        "for i in range(1, 18):\n",
        "    df = locals()[f'df{i}'] = pd.read_csv(fr\"drive/MyDrive/Fantasy-Football-Coding/Fantasy-Data/OwnersBox/Combined/2014/combined-wk{i}.csv\")\n",
        "    df_2014.append(df)\n",
        "df_2014 = pd.concat(df_2014)\n",
        "df_2014 = df_2014.loc[df_2014.Position.isin(['QB', 'RB', 'WR', 'TE'])]\n",
        "\n",
        "df_2015 = []\n",
        "for i in range(1, 18):\n",
        "    df = locals()[f'df{i}'] = pd.read_csv(fr\"drive/MyDrive/Fantasy-Football-Coding/Fantasy-Data/OwnersBox/Combined/2015/combined-wk{i}.csv\")\n",
        "    df_2015.append(df)\n",
        "df_2015 = pd.concat(df_2015)\n",
        "df_2015 = df_2015.loc[df_2015.Position.isin(['QB', 'RB', 'WR', 'TE'])]\n",
        "\n",
        "df_2016 = []\n",
        "for i in range(1, 18):\n",
        "    df = locals()[f'df{i}'] = pd.read_csv(fr\"drive/MyDrive/Fantasy-Football-Coding/Fantasy-Data/OwnersBox/Combined/2016/combined-wk{i}.csv\")\n",
        "    df_2016.append(df)\n",
        "df_2016 = pd.concat(df_2016)\n",
        "df_2016 = df_2016.loc[df_2016.Position.isin(['QB', 'RB', 'WR', 'TE'])]\n",
        "\n",
        "df_2017 = []\n",
        "for i in range(1, 18):\n",
        "    df = locals()[f'df{i}'] = pd.read_csv(fr\"drive/MyDrive/Fantasy-Football-Coding/Fantasy-Data/OwnersBox/Combined/2017/combined-wk{i}.csv\")\n",
        "    df_2017.append(df)\n",
        "df_2017 = pd.concat(df_2017)\n",
        "df_2017 = df_2017.loc[df_2017.Position.isin(['QB', 'RB', 'WR', 'TE'])]\n",
        "\n",
        "df_2018 = []\n",
        "for i in range(1, 18):\n",
        "    df = locals()[f'df{i}'] = pd.read_csv(fr\"drive/MyDrive/Fantasy-Football-Coding/Fantasy-Data/OwnersBox/Combined/2018/combined-wk{i}.csv\")\n",
        "    df_2018.append(df)\n",
        "df_2018 = pd.concat(df_2018)\n",
        "df_2018 = df_2018.loc[df_2018.Position.isin(['QB', 'RB', 'WR', 'TE'])]\n",
        "\n",
        "df_2019 = []\n",
        "for i in range(1, 18):\n",
        "    df = locals()[f'df{i}'] = pd.read_csv(fr\"drive/MyDrive/Fantasy-Football-Coding/Fantasy-Data/OwnersBox/Combined/2019/combined-wk{i}.csv\")\n",
        "    df_2019.append(df)\n",
        "df_2019 = pd.concat(df_2019)\n",
        "df_2019 = df_2019.loc[df_2019.Position.isin(['QB', 'RB', 'WR', 'TE'])]\n",
        "\n",
        "df_2020 = []\n",
        "for i in range(1, 18):\n",
        "    df = locals()[f'df{i}'] = pd.read_csv(fr\"drive/MyDrive/Fantasy-Football-Coding/Fantasy-Data/OwnersBox/Combined/2020/combined-wk{i}.csv\")\n",
        "    df_2020.append(df)\n",
        "df_2020 = pd.concat(df_2020)\n",
        "df_2020 = df_2020.loc[df_2020.Position.isin(['QB', 'RB', 'WR', 'TE'])]\n",
        "\n",
        "df_2021 = []\n",
        "for i in range(1, 19):\n",
        "    df = locals()[f'df{i}'] = pd.read_csv(fr\"drive/MyDrive/Fantasy-Football-Coding/Fantasy-Data/OwnersBox/Combined/2021/combined-wk{i}.csv\")\n",
        "    df_2021.append(df)\n",
        "df_2021 = pd.concat(df_2021)\n",
        "df_2021 = df_2021.loc[df_2021.Position.isin(['QB', 'RB', 'WR', 'TE'])]\n",
        " \n",
        "df_2022 = []\n",
        "for i in range(1, week):\n",
        "    df = locals()[f'df{i}'] = pd.read_csv(fr\"drive/MyDrive/Fantasy-Football-Coding/Fantasy-Data/OwnersBox/Combined/2022/combined-wk{i}.csv\")\n",
        "    df_2022.append(df)\n",
        "df_2022 = pd.concat(df_2022)\n",
        "df_2022 = df_2022.loc[df_2022.Position.isin(['QB', 'RB', 'WR', 'TE'])]"
      ],
      "metadata": {
        "id": "hhr0bnbXtBNi"
      },
      "execution_count": 4,
      "outputs": []
    },
    {
      "cell_type": "code",
      "source": [
        "# Combining all the yearly data frames into one\n",
        "df = pd.concat([df_2013, df_2014, df_2015, df_2016, df_2017, df_2018, df_2019, df_2020, df_2021, df_2022])\n",
        "df.shape"
      ],
      "metadata": {
        "id": "C6n_olAdtBGK",
        "colab": {
          "base_uri": "https://localhost:8080/"
        },
        "outputId": "edf13e99-877e-4541-c66e-c6257f839479"
      },
      "execution_count": 5,
      "outputs": [
        {
          "output_type": "execute_result",
          "data": {
            "text/plain": [
              "(54639, 26)"
            ]
          },
          "metadata": {},
          "execution_count": 5
        }
      ]
    },
    {
      "cell_type": "code",
      "source": [
        "# Fill NaN values with 0.0\n",
        "df = df.fillna(0.0)\n",
        "# Resetting the index\n",
        "df = df.reset_index(drop=True)\n",
        "# This keeps all the data where the Projected Points are greather than or equal to 2\n",
        "df = df[df['NewProjectedPoints'] >= 2]"
      ],
      "metadata": {
        "id": "yNzycIVetA_E"
      },
      "execution_count": 6,
      "outputs": []
    },
    {
      "cell_type": "markdown",
      "source": [
        "Now the data will be split for training and testing"
      ],
      "metadata": {
        "id": "93ghIL3tu4Aq"
      }
    },
    {
      "cell_type": "code",
      "source": [
        "# Splitting the data into features and the label\n",
        "X = df[['NewProjectedPoints']].values\n",
        "y = df[['NewActualPoints']].values"
      ],
      "metadata": {
        "id": "wDaUdNcFtXDj"
      },
      "execution_count": 7,
      "outputs": []
    },
    {
      "cell_type": "code",
      "source": [
        "# Split the data into training and testing\n",
        "X_train, X_test, y_train, y_test = train_test_split(X, y, test_size=0.2, random_state=42, shuffle=True)"
      ],
      "metadata": {
        "id": "K7JxDZllu_zA"
      },
      "execution_count": 8,
      "outputs": []
    },
    {
      "cell_type": "code",
      "source": [
        "# X_train is 80% of the data used for training, includes all features selected\n",
        "# X_test is 20% of the data used for testing, includes all features selected\n",
        "# y_train is 80% of the data used for training, includes the label for each row in X_train\n",
        "# y_test is 20% of the data used for testing, includes the label for each row in y_train\n",
        "X_train.shape, X_test.shape, y_train.shape, y_test.shape"
      ],
      "metadata": {
        "colab": {
          "base_uri": "https://localhost:8080/"
        },
        "id": "c0hqOu5bvlW_",
        "outputId": "f0d955ec-7d4a-4220-b90f-dd52d04fa14d"
      },
      "execution_count": 9,
      "outputs": [
        {
          "output_type": "execute_result",
          "data": {
            "text/plain": [
              "((34099, 1), (8525, 1), (34099, 1), (8525, 1))"
            ]
          },
          "metadata": {},
          "execution_count": 9
        }
      ]
    },
    {
      "cell_type": "markdown",
      "source": [
        "Starting to create the Neural Network Model"
      ],
      "metadata": {
        "id": "500NobbNwuDG"
      }
    },
    {
      "cell_type": "code",
      "source": [
        "# Scale both the train and test, otherwise the model will fail\n",
        "# Standardize features by removing the mean and scaling to unit variance\n",
        "scaler = StandardScaler()\n",
        "scaler.fit(X_train)\n",
        "\n",
        "# The new variables are being scaled based on the standardizing features that happened in X_train\n",
        "X_train_scaled = scaler.transform(X_train)\n",
        "X_test_scaled = scaler.transform(X_test)"
      ],
      "metadata": {
        "id": "es4s2w4GwY0B"
      },
      "execution_count": 10,
      "outputs": []
    },
    {
      "cell_type": "markdown",
      "source": [
        "Defining the Model"
      ],
      "metadata": {
        "id": "WXezvRjoxWbC"
      }
    },
    {
      "cell_type": "code",
      "source": [
        "# Define the model \n",
        "model = Sequential()\n",
        "# First hidden layer number of neurons and number of inputs, with the type of activation\n",
        "model.add(Dense(6, input_shape=(1,), activation='relu'))\n",
        "# Second Hidden Layer\n",
        "model.add(Dense(6, activation='relu'))\n",
        "# Output layer\n",
        "model.add(Dense(1, activation='linear'))\n",
        "\n",
        "\n",
        "# Compile the model (which defines the loss function, the optimizer, and the metrics)\n",
        "model.compile(tf.keras.optimizers.Adam(learning_rate=0.0005), loss='mean_squared_error', metrics=['mae'])\n",
        "model.summary"
      ],
      "metadata": {
        "colab": {
          "base_uri": "https://localhost:8080/"
        },
        "id": "VNHdC6iXwyZe",
        "outputId": "7d36e79f-d310-4fc7-c8a1-6669e1f7f9a1"
      },
      "execution_count": 11,
      "outputs": [
        {
          "output_type": "execute_result",
          "data": {
            "text/plain": [
              "<bound method Model.summary of <keras.engine.sequential.Sequential object at 0x7f554e910a60>>"
            ]
          },
          "metadata": {},
          "execution_count": 11
        }
      ]
    },
    {
      "cell_type": "code",
      "source": [
        "# Fitting the model\n",
        "history = model.fit(X_train_scaled, y_train, validation_split=0.2, shuffle=True, epochs=20)"
      ],
      "metadata": {
        "colab": {
          "base_uri": "https://localhost:8080/"
        },
        "id": "mF0RKUGfx-eQ",
        "outputId": "1d40291b-70cd-48ec-e53c-79a17cd80060"
      },
      "execution_count": 12,
      "outputs": [
        {
          "output_type": "stream",
          "name": "stdout",
          "text": [
            "Epoch 1/20\n",
            "853/853 [==============================] - 2s 2ms/step - loss: 122.2607 - mae: 8.0541 - val_loss: 58.8911 - val_mae: 5.7930\n",
            "Epoch 2/20\n",
            "853/853 [==============================] - 2s 2ms/step - loss: 46.4507 - mae: 5.2283 - val_loss: 43.8286 - val_mae: 5.0990\n",
            "Epoch 3/20\n",
            "853/853 [==============================] - 2s 2ms/step - loss: 44.4445 - mae: 5.0860 - val_loss: 43.7689 - val_mae: 5.0786\n",
            "Epoch 4/20\n",
            "853/853 [==============================] - 2s 2ms/step - loss: 44.4030 - mae: 5.0776 - val_loss: 43.7437 - val_mae: 5.0776\n",
            "Epoch 5/20\n",
            "853/853 [==============================] - 2s 2ms/step - loss: 44.3801 - mae: 5.0757 - val_loss: 43.7132 - val_mae: 5.0907\n",
            "Epoch 6/20\n",
            "853/853 [==============================] - 2s 2ms/step - loss: 44.3600 - mae: 5.0741 - val_loss: 43.7076 - val_mae: 5.0979\n",
            "Epoch 7/20\n",
            "853/853 [==============================] - 2s 2ms/step - loss: 44.3450 - mae: 5.0708 - val_loss: 43.7135 - val_mae: 5.1098\n",
            "Epoch 8/20\n",
            "853/853 [==============================] - 2s 2ms/step - loss: 44.3408 - mae: 5.0742 - val_loss: 43.7399 - val_mae: 5.1118\n",
            "Epoch 9/20\n",
            "853/853 [==============================] - 2s 2ms/step - loss: 44.3291 - mae: 5.0756 - val_loss: 43.7491 - val_mae: 5.0605\n",
            "Epoch 10/20\n",
            "853/853 [==============================] - 2s 2ms/step - loss: 44.3295 - mae: 5.0696 - val_loss: 43.6906 - val_mae: 5.0847\n",
            "Epoch 11/20\n",
            "853/853 [==============================] - 2s 2ms/step - loss: 44.3285 - mae: 5.0697 - val_loss: 43.6971 - val_mae: 5.0824\n",
            "Epoch 12/20\n",
            "853/853 [==============================] - 2s 2ms/step - loss: 44.3145 - mae: 5.0712 - val_loss: 43.6932 - val_mae: 5.0913\n",
            "Epoch 13/20\n",
            "853/853 [==============================] - 2s 2ms/step - loss: 44.3189 - mae: 5.0682 - val_loss: 43.6927 - val_mae: 5.0983\n",
            "Epoch 14/20\n",
            "853/853 [==============================] - 2s 2ms/step - loss: 44.3151 - mae: 5.0714 - val_loss: 43.6880 - val_mae: 5.0906\n",
            "Epoch 15/20\n",
            "853/853 [==============================] - 2s 2ms/step - loss: 44.3003 - mae: 5.0709 - val_loss: 43.6927 - val_mae: 5.0758\n",
            "Epoch 16/20\n",
            "853/853 [==============================] - 2s 2ms/step - loss: 44.3058 - mae: 5.0704 - val_loss: 43.7078 - val_mae: 5.0619\n",
            "Epoch 17/20\n",
            "853/853 [==============================] - 2s 2ms/step - loss: 44.3023 - mae: 5.0699 - val_loss: 43.6896 - val_mae: 5.0720\n",
            "Epoch 18/20\n",
            "853/853 [==============================] - 2s 2ms/step - loss: 44.3052 - mae: 5.0677 - val_loss: 43.6922 - val_mae: 5.0668\n",
            "Epoch 19/20\n",
            "853/853 [==============================] - 2s 2ms/step - loss: 44.2982 - mae: 5.0651 - val_loss: 43.7017 - val_mae: 5.0811\n",
            "Epoch 20/20\n",
            "853/853 [==============================] - 2s 2ms/step - loss: 44.2968 - mae: 5.0692 - val_loss: 43.6943 - val_mae: 5.0900\n"
          ]
        }
      ]
    },
    {
      "cell_type": "markdown",
      "source": [
        "Understanding the trained data"
      ],
      "metadata": {
        "id": "Ra8N05rL6-FX"
      }
    },
    {
      "cell_type": "code",
      "source": [
        "# Plot the training and validation loss at each epoch\n",
        "loss = history.history['loss']\n",
        "val_loss = history.history['val_loss']\n",
        "epochs = range(1, len(loss) + 1)\n",
        "# Does a line\n",
        "plt.plot(epochs, loss, 'y', label='Training loss')\n",
        "# Does a dot\n",
        "#plt.plot(epochs, loss, 'bo', label='Training loss')\n",
        "plt.plot(epochs, val_loss, 'r', label='Validation loss')\n",
        "plt.title('Training and Validation loss')\n",
        "plt.xlabel('Epochs')\n",
        "plt.ylabel('Loss')\n",
        "plt.legend()\n",
        "plt.show()"
      ],
      "metadata": {
        "id": "Poh_56R7x-b2",
        "colab": {
          "base_uri": "https://localhost:8080/",
          "height": 295
        },
        "outputId": "1de8bae3-2ab1-4605-949a-176f36b74764"
      },
      "execution_count": 13,
      "outputs": [
        {
          "output_type": "display_data",
          "data": {
            "text/plain": [
              "<Figure size 432x288 with 1 Axes>"
            ],
            "image/png": "[encoded data removed]"
          },
          "metadata": {
            "needs_background": "light"
          }
        }
      ]
    },
    {
      "cell_type": "code",
      "source": [
        "# Plot the training and validation loss at each epoch\n",
        "acc = history.history['mae']\n",
        "val_acc = history.history['val_mae']\n",
        "# Does a line\n",
        "plt.plot(epochs, acc, 'y', label='Training MAE')\n",
        "# Does a dot\n",
        "#plt.plot(epochs, acc, 'bo', label='Training MAE')\n",
        "plt.plot(epochs, val_acc, 'r', label='Validation MAE')\n",
        "plt.title('Training and Validation MAE')\n",
        "plt.xlabel('Epochs')\n",
        "plt.ylabel('Accuracy')\n",
        "plt.legend()\n",
        "plt.show()"
      ],
      "metadata": {
        "id": "3bsZWIx-x-Za",
        "colab": {
          "base_uri": "https://localhost:8080/",
          "height": 295
        },
        "outputId": "2162c086-d795-47e0-e44c-d6497015166a"
      },
      "execution_count": 14,
      "outputs": [
        {
          "output_type": "display_data",
          "data": {
            "text/plain": [
              "<Figure size 432x288 with 1 Axes>"
            ],
            "image/png": "[encoded data removed]"
          },
          "metadata": {
            "needs_background": "light"
          }
        }
      ]
    },
    {
      "cell_type": "code",
      "source": [
        "# Using the model on the Test data now\n",
        "mse_neural, mae_neural = model.evaluate(X_test_scaled, y_test)\n",
        "print(\"Mean Squared Error from neural network: \", mse_neural)\n",
        "print(\"Mean Absolute Error from neural network: \", mae_neural)"
      ],
      "metadata": {
        "id": "6l8nQPhmx-XA",
        "colab": {
          "base_uri": "https://localhost:8080/"
        },
        "outputId": "ddf120a7-da3f-4d41-b5ea-4675c3148bc5"
      },
      "execution_count": 15,
      "outputs": [
        {
          "output_type": "stream",
          "name": "stdout",
          "text": [
            "267/267 [==============================] - 0s 1ms/step - loss: 45.1872 - mae: 5.1024\n",
            "Mean Squared Error from neural network:  45.187191009521484\n",
            "Mean Absolute Error from neural network:  5.102386951446533\n"
          ]
        }
      ]
    },
    {
      "cell_type": "code",
      "source": [
        "# Testing the model with predictions\n",
        "print('Scaled Data')\n",
        "print(X_train_scaled[5])\n",
        "print('')\n",
        "print('NewProjectedPoints')\n",
        "print(X_train[5])\n",
        "y_new = model.predict(X_train_scaled)\n",
        "print('')\n",
        "print('Prediction')\n",
        "print(y_new[5])\n",
        "print('')\n",
        "print('Actual Label')\n",
        "print(y_train[5])"
      ],
      "metadata": {
        "id": "_9ts7BE6x-Ux",
        "colab": {
          "base_uri": "https://localhost:8080/"
        },
        "outputId": "f1f2ddfd-3950-4fd9-ebe0-198b3a27fa09"
      },
      "execution_count": 16,
      "outputs": [
        {
          "output_type": "stream",
          "name": "stdout",
          "text": [
            "Scaled Data\n",
            "[0.24971174]\n",
            "\n",
            "NewProjectedPoints\n",
            "[11.2]\n",
            "1066/1066 [==============================] - 1s 1ms/step\n",
            "\n",
            "Prediction\n",
            "[10.999578]\n",
            "\n",
            "Actual Label\n",
            "[9.9]\n"
          ]
        }
      ]
    },
    {
      "cell_type": "markdown",
      "source": [
        "In order to get a prediction, you need to have the model predict on a scaled version of the X feature(s), since the model was created on scaled data"
      ],
      "metadata": {
        "id": "7mxoQ60LB_dV"
      }
    },
    {
      "cell_type": "markdown",
      "source": [
        "Now that there is a model, I want it to be tested on data from a csv"
      ],
      "metadata": {
        "id": "SxfaI0hzCGWc"
      }
    },
    {
      "cell_type": "code",
      "source": [
        "# Bring in the data \n",
        "df_test = pd.read_csv(f\"drive/MyDrive/Fantasy-Football-Coding/Fantasy-Data/OwnersBox/_Current/Current-wk{week}.csv\")"
      ],
      "metadata": {
        "id": "7qaN7m8F7N9d"
      },
      "execution_count": 17,
      "outputs": []
    },
    {
      "cell_type": "markdown",
      "source": [
        "The data needs to go through the same transformation as what was trained on the model"
      ],
      "metadata": {
        "id": "FfOMUJSlH-0o"
      }
    },
    {
      "cell_type": "code",
      "source": [
        "# Fill NaN values with 0.0\n",
        "df_test = df_test.fillna(0.0)\n",
        "# This keeps all the data where the Projected Points are greather than or equal to 2\n",
        "df_test = df_test[df_test['NewProjectedPoints'] >= 2]"
      ],
      "metadata": {
        "id": "gWbw38Gv7N64"
      },
      "execution_count": 18,
      "outputs": []
    },
    {
      "cell_type": "code",
      "source": [
        "# Splitting the data into a solo feature\n",
        "X = df_test[['NewProjectedPoints']].values"
      ],
      "metadata": {
        "id": "0CAvBjoP7N4V"
      },
      "execution_count": 19,
      "outputs": []
    },
    {
      "cell_type": "code",
      "source": [
        "# Standardize the features so it matches the type of numbers that the model was trained on\n",
        "scaler.fit(X)\n",
        "\n",
        "# The new variables are being scaled based on the standardizing features that happened in X_train\n",
        "X_scaled = scaler.transform(X)"
      ],
      "metadata": {
        "id": "wr1ukAm6xY6j"
      },
      "execution_count": 20,
      "outputs": []
    },
    {
      "cell_type": "code",
      "source": [
        "# Testing the model with predictions\n",
        "print('Scaled Data')\n",
        "print(X_scaled[5])\n",
        "print('')\n",
        "print('NewProjectedPoints')\n",
        "print(X[5])\n",
        "y_points = model.predict(X_scaled)\n",
        "print('')\n",
        "print('Prediction')\n",
        "print(y_points[5])"
      ],
      "metadata": {
        "id": "uSe-4NKlV17k",
        "colab": {
          "base_uri": "https://localhost:8080/"
        },
        "outputId": "aa908db3-c0c8-4130-dee4-ed7f9f64bf4f"
      },
      "execution_count": 21,
      "outputs": [
        {
          "output_type": "stream",
          "name": "stdout",
          "text": [
            "Scaled Data\n",
            "[2.20426634]\n",
            "\n",
            "NewProjectedPoints\n",
            "[20.96]\n",
            "10/10 [==============================] - 0s 1ms/step\n",
            "\n",
            "Prediction\n",
            "[20.185123]\n"
          ]
        }
      ]
    },
    {
      "cell_type": "code",
      "source": [
        "# Add the new column into the dataframe\n",
        "df_test = df_test.assign(NNProjectedPoints=y_points)"
      ],
      "metadata": {
        "id": "F6MTNNafV15C"
      },
      "execution_count": 22,
      "outputs": []
    },
    {
      "cell_type": "code",
      "source": [
        "# Changing the NewProjectedPoints column to round to 3 decimal places\n",
        "decimals = 3    \n",
        "df_test['NNProjectedPoints'] = df_test['NNProjectedPoints'].apply(lambda x: round(x, decimals))"
      ],
      "metadata": {
        "id": "IvFon7MAV12x"
      },
      "execution_count": 23,
      "outputs": []
    },
    {
      "cell_type": "code",
      "source": [
        "# Creating a DataFrame with just the listed columns\n",
        "df_test = df_test[['Name', 'Position', 'NNProjectedPoints', 'Salary']]\n",
        "# Eliminating rows where the Salary is equal to 0\n",
        "df_test = df_test[df_test['Salary'] != 0]"
      ],
      "metadata": {
        "id": "GcXMUatGV1xt"
      },
      "execution_count": 24,
      "outputs": []
    },
    {
      "cell_type": "code",
      "source": [
        "# This is regrouping the dataframe so the players are grouped by Position\n",
        "availables = df_test.groupby([\"Position\", \"Name\", \"NNProjectedPoints\", \"Salary\"]).agg('count')\n",
        "availables = availables.reset_index()"
      ],
      "metadata": {
        "id": "LGWowp7u1iOu"
      },
      "execution_count": 25,
      "outputs": []
    },
    {
      "cell_type": "code",
      "source": [
        "# Define empty dictionaries to track the metrics for the lineup optimizer\n",
        "salaries = {}\n",
        "points = {}\n",
        "players = {}\n",
        "lineups_dict = {}\n",
        "\n",
        "\n",
        "for position in availables.Position.unique():\n",
        "    available_for_position = availables[availables.Position == position]\n",
        "    players[position] = list(available_for_position.Name.values)\n",
        "    \n",
        "    \n",
        "    salaries[position] = {\n",
        "        player_roster: salary for player_roster, salary in\n",
        "        zip(players[position], available_for_position.Salary.values)\n",
        "    }\n",
        "\n",
        "    points[position] = {\n",
        "        player_roster: _points for player_roster, _points in\n",
        "        zip(players[position], available_for_position.NNProjectedPoints.values)\n",
        "    }\n",
        "\n",
        "# This defines another dictionary that has the positions and lineup.\n",
        "positions_available = {\n",
        "    \"QB\": 2,\n",
        "    \"RB\": 2,\n",
        "    \"WR\": 2,\n",
        "    \"TE\": 1,\n",
        "    \"FLEX\": 2\n",
        "    #\"SUPER\": 1\n",
        "}\n",
        "\n",
        "flexible_positions = (\"RB\", \"WR\", \"TE\")\n",
        "\n",
        "#superflexible_positions = (\"QB\", \"RB\", \"WR\", \"TE\")\n",
        "\n",
        "# How much salary the starting amount is for the DFS\n",
        "salary_cap = 50000"
      ],
      "metadata": {
        "id": "262ch0a91iJy"
      },
      "execution_count": 26,
      "outputs": []
    },
    {
      "cell_type": "code",
      "source": [
        "variables = {position: LpVariable.dict(position, players[position], cat=\"Binary\")\n",
        "               for position in players}"
      ],
      "metadata": {
        "id": "jtIebcv6HPsW"
      },
      "execution_count": 27,
      "outputs": []
    },
    {
      "cell_type": "code",
      "source": [
        "# Putting a range of how many lineups you want created. \n",
        "# Every change below the for loop of the range of lineups means each change is happening to a single lineup, that is being looped for a new one each time.\n",
        "for lineup in range(1, 11):\n",
        "  # Establishes the variables of the Pulp\n",
        "  # a pulp variable tracks whether a player is chosen or not (binary yes/no)\n",
        "  # It's a variable dictionary of keys and values\n",
        "\n",
        "# The \"problem\" is we want to have the maximum salary for each lineup. \n",
        "  prob = LpProblem(\"Fantasy\", LpMaximize)\n",
        "\n",
        "  # Creating an empty list to track rewards (points), costs (salary), and positional contraints (position)\n",
        "  rewards = []\n",
        "  costs = []\n",
        "  number_of_selected_players = []\n",
        "\n",
        "  for position, players in variables.items():\n",
        "    for player, player_selected in players.items():\n",
        "      # If this player is selected, he will add salaries and points\n",
        "        costs += salaries[position][player] * player_selected\n",
        "        rewards += points[position][player] * player_selected\n",
        "        number_of_selected_players += player_selected\n",
        "\n",
        " \n",
        "    # Of this position, if it does not support FLEX, at most `positions_available`\n",
        "    # are supported. If it does support FLEX, increment that by\n",
        "    # `flexible_positions_available`\n",
        "    if position not in flexible_positions:\n",
        "        prob += lpSum(players.values()) == positions_available[position]  # Filling in the QB\n",
        "  \n",
        "    else:\n",
        "          # We need at least `positions_available` players on this position and at\n",
        "          # most`positions_available + flexible_positions_available` players\n",
        "          prob += lpSum(players.values()) >= positions_available[position]  # Filling in the RB, WR, TE\n",
        "          prob += (lpSum(players.values())\n",
        "                          <= positions_available[position] + positions_available[\"FLEX\"])  # Filling in the FLEX\n",
        "                   \n",
        "\n",
        "  # This adds the costs (salary) and rewards (points) into the optimization calculation\n",
        "  # This sums up the points and sums up the salary while making sure the lineup salary is less than or equal to the 50,000\n",
        "  # In total, we need exactly `positions_available` players\n",
        "  prob += lpSum(number_of_selected_players) == sum(positions_available.values())\n",
        "  prob += lpSum(rewards)\n",
        "  prob += lpSum(costs) <= salary_cap\n",
        "  #prob += len(np.unique(id_constraints)) == id_unique\n",
        "  \n",
        "\n",
        "  num = 0.001\n",
        "  # If it's not the first lineup\n",
        "  if not lineup == 1:\n",
        "    # Make sure the rewards (points) is less than or equal too the total of the previous lineup, minus 0.01\n",
        "    # That is too ensure you don't get the same lineup each time becasue the max points of the lineup caps out\n",
        "    # at just below the previous total projections. This ensures varied lineups, and then solve\n",
        "    prob += (lpSum(rewards) <= total_score - num)\n",
        "  prob.solve()\n",
        "\n",
        "  # Getting the strings for the lineup and the constraints (which is same position) when starting the new lineup.\n",
        "  score = str(prob.objective)\n",
        "  constraints = [str(const) for const in prob.constraints.values()]\n",
        "\n",
        "  # Creating an empty list for storing the lineup\n",
        "  lineupList = []\n",
        "  # This will create a list of every player in the dataset with a variable of 1 or 0, depending the player\n",
        "  # has been chosen for the lineup. This loops through the list to fill in if the player has been chosen or not.\n",
        "  for v in prob.variables():\n",
        "      score = score.replace(v.name, str(v.varValue))\n",
        "      if v.varValue != 0:\n",
        "        lineupList.append(v.name)\n",
        "\n",
        "  # # Finally we just have to save the total_score variable for the lineup.       \n",
        "  total_score = eval(score)\n",
        "  lineupList.append(total_score)\n",
        " \n",
        "  # # Storing all of the lineups in a dictionary  \n",
        "  lineups_dict.update({lineup: lineupList})"
      ],
      "metadata": {
        "id": "jl54O8CL7LX1"
      },
      "execution_count": 28,
      "outputs": []
    },
    {
      "cell_type": "code",
      "source": [
        "# Turning the dictionary into a DataFrame\n",
        "df = pd.DataFrame(lineups_dict)"
      ],
      "metadata": {
        "id": "cV6dia3p7LVQ"
      },
      "execution_count": 29,
      "outputs": []
    },
    {
      "cell_type": "code",
      "source": [
        "# Transposing the DataFrame\n",
        "df = df.T"
      ],
      "metadata": {
        "id": "tuPQBdtw7LSi"
      },
      "execution_count": 30,
      "outputs": []
    },
    {
      "cell_type": "code",
      "source": [
        "# Creating a list for what the rename the column names\n",
        "newcols = ['QB', 'SUPER', 'RB1', 'RB2', 'FLEXorTE', 'TEorFLEX', 'FLEX2', 'WR1', 'WR2', 'Total_Score']"
      ],
      "metadata": {
        "id": "6BRq_bhO7LQL"
      },
      "execution_count": 31,
      "outputs": []
    },
    {
      "cell_type": "code",
      "source": [
        "# Adding that column name list into the DataFrame\n",
        "df.columns = newcols"
      ],
      "metadata": {
        "id": "C8MUYvAc7LNw"
      },
      "execution_count": 32,
      "outputs": []
    },
    {
      "cell_type": "code",
      "source": [
        "# Creating a list of what values to remove in each particular cell\n",
        "removeKeys = ['QB_', 'RB_', 'TE_', 'WR_']\n",
        "# For each position in each column, when the player has the position and _ in front of it, remove that and replace it with nothing\n",
        "for pos in newcols:\n",
        "  for removeKey in removeKeys:\n",
        "      df[pos] = df[pos].apply(str).str.replace(removeKey,\"\")\n",
        "  df[pos] = df[pos].apply(str).str.replace(\"_\", \" \")"
      ],
      "metadata": {
        "id": "kiamNG9LJRNL"
      },
      "execution_count": 33,
      "outputs": []
    },
    {
      "cell_type": "code",
      "source": [
        "# Showing what the top lineups are\n",
        "df.head(1)"
      ],
      "metadata": {
        "id": "sxkaEiSWTygd",
        "colab": {
          "base_uri": "https://localhost:8080/",
          "height": 81
        },
        "outputId": "e291b423-8f79-47e5-e7c5-64ac9e2c2957"
      },
      "execution_count": 34,
      "outputs": [
        {
          "output_type": "execute_result",
          "data": {
            "text/plain": [
              "           QB            SUPER            RB1          RB2        FLEXorTE  \\\n",
              "1  Geno Smith  Patrick Mahomes  Austin Ekeler  Jeff Wilson  Kenneth Walker   \n",
              "\n",
              "        TEorFLEX         FLEX2             WR1           WR2 Total_Score  \n",
              "1  Rachaad White  Hayden Hurst  Garrett Wilson  Nico Collins     142.764  "
            ],
            "text/html": [
              "\n",
              "  <div id=\"df-76ebe68d-8b41-4c2a-907c-54a435a6619a\">\n",
              "    <div class=\"colab-df-container\">\n",
              "      <div>\n",
              "<style scoped>\n",
              "    .dataframe tbody tr th:only-of-type {\n",
              "        vertical-align: middle;\n",
              "    }\n",
              "\n",
              "    .dataframe tbody tr th {\n",
              "        vertical-align: top;\n",
              "    }\n",
              "\n",
              "    .dataframe thead th {\n",
              "        text-align: right;\n",
              "    }\n",
              "</style>\n",
              "<table border=\"1\" class=\"dataframe\">\n",
              "  <thead>\n",
              "    <tr style=\"text-align: right;\">\n",
              "      <th></th>\n",
              "      <th>QB</th>\n",
              "      <th>SUPER</th>\n",
              "      <th>RB1</th>\n",
              "      <th>RB2</th>\n",
              "      <th>FLEXorTE</th>\n",
              "      <th>TEorFLEX</th>\n",
              "      <th>FLEX2</th>\n",
              "      <th>WR1</th>\n",
              "      <th>WR2</th>\n",
              "      <th>Total_Score</th>\n",
              "    </tr>\n",
              "  </thead>\n",
              "  <tbody>\n",
              "    <tr>\n",
              "      <th>1</th>\n",
              "      <td>Geno Smith</td>\n",
              "      <td>Patrick Mahomes</td>\n",
              "      <td>Austin Ekeler</td>\n",
              "      <td>Jeff Wilson</td>\n",
              "      <td>Kenneth Walker</td>\n",
              "      <td>Rachaad White</td>\n",
              "      <td>Hayden Hurst</td>\n",
              "      <td>Garrett Wilson</td>\n",
              "      <td>Nico Collins</td>\n",
              "      <td>142.764</td>\n",
              "    </tr>\n",
              "  </tbody>\n",
              "</table>\n",
              "</div>\n",
              "      <button class=\"colab-df-convert\" onclick=\"convertToInteractive('df-76ebe68d-8b41-4c2a-907c-54a435a6619a')\"\n",
              "              title=\"Convert this dataframe to an interactive table.\"\n",
              "              style=\"display:none;\">\n",
              "        \n",
              "  <svg xmlns=\"http://www.w3.org/2000/svg\" height=\"24px\"viewBox=\"0 0 24 24\"\n",
              "       width=\"24px\">\n",
              "    <path d=\"M0 0h24v24H0V0z\" fill=\"none\"/>\n",
              "    <path d=\"M18.56 5.44l.94 2.06.94-2.06 2.06-.94-2.06-.94-.94-2.06-.94 2.06-2.06.94zm-11 1L8.5 8.5l.94-2.06 2.06-.94-2.06-.94L8.5 2.5l-.94 2.06-2.06.94zm10 10l.94 2.06.94-2.06 2.06-.94-2.06-.94-.94-2.06-.94 2.06-2.06.94z\"/><path d=\"M17.41 7.96l-1.37-1.37c-.4-.4-.92-.59-1.43-.59-.52 0-1.04.2-1.43.59L10.3 9.45l-7.72 7.72c-.78.78-.78 2.05 0 2.83L4 21.41c.39.39.9.59 1.41.59.51 0 1.02-.2 1.41-.59l7.78-7.78 2.81-2.81c.8-.78.8-2.07 0-2.86zM5.41 20L4 18.59l7.72-7.72 1.47 1.35L5.41 20z\"/>\n",
              "  </svg>\n",
              "      </button>\n",
              "      \n",
              "  <style>\n",
              "    .colab-df-container {\n",
              "      display:flex;\n",
              "      flex-wrap:wrap;\n",
              "      gap: 12px;\n",
              "    }\n",
              "\n",
              "    .colab-df-convert {\n",
              "      background-color: #E8F0FE;\n",
              "      border: none;\n",
              "      border-radius: 50%;\n",
              "      cursor: pointer;\n",
              "      display: none;\n",
              "      fill: #1967D2;\n",
              "      height: 32px;\n",
              "      padding: 0 0 0 0;\n",
              "      width: 32px;\n",
              "    }\n",
              "\n",
              "    .colab-df-convert:hover {\n",
              "      background-color: #E2EBFA;\n",
              "      box-shadow: 0px 1px 2px rgba(60, 64, 67, 0.3), 0px 1px 3px 1px rgba(60, 64, 67, 0.15);\n",
              "      fill: #174EA6;\n",
              "    }\n",
              "\n",
              "    [theme=dark] .colab-df-convert {\n",
              "      background-color: #3B4455;\n",
              "      fill: #D2E3FC;\n",
              "    }\n",
              "\n",
              "    [theme=dark] .colab-df-convert:hover {\n",
              "      background-color: #434B5C;\n",
              "      box-shadow: 0px 1px 3px 1px rgba(0, 0, 0, 0.15);\n",
              "      filter: drop-shadow(0px 1px 2px rgba(0, 0, 0, 0.3));\n",
              "      fill: #FFFFFF;\n",
              "    }\n",
              "  </style>\n",
              "\n",
              "      <script>\n",
              "        const buttonEl =\n",
              "          document.querySelector('#df-76ebe68d-8b41-4c2a-907c-54a435a6619a button.colab-df-convert');\n",
              "        buttonEl.style.display =\n",
              "          google.colab.kernel.accessAllowed ? 'block' : 'none';\n",
              "\n",
              "        async function convertToInteractive(key) {\n",
              "          const element = document.querySelector('#df-76ebe68d-8b41-4c2a-907c-54a435a6619a');\n",
              "          const dataTable =\n",
              "            await google.colab.kernel.invokeFunction('convertToInteractive',\n",
              "                                                     [key], {});\n",
              "          if (!dataTable) return;\n",
              "\n",
              "          const docLinkHtml = 'Like what you see? Visit the ' +\n",
              "            '<a target=\"_blank\" href=https://colab.research.google.com/notebooks/data_table.ipynb>data table notebook</a>'\n",
              "            + ' to learn more about interactive tables.';\n",
              "          element.innerHTML = '';\n",
              "          dataTable['output_type'] = 'display_data';\n",
              "          await google.colab.output.renderOutput(dataTable, element);\n",
              "          const docLink = document.createElement('div');\n",
              "          docLink.innerHTML = docLinkHtml;\n",
              "          element.appendChild(docLink);\n",
              "        }\n",
              "      </script>\n",
              "    </div>\n",
              "  </div>\n",
              "  "
            ]
          },
          "metadata": {},
          "execution_count": 34
        }
      ]
    },
    {
      "cell_type": "code",
      "source": [
        "# df.to_csv('FF_Data_Wk5.csv', encoding = 'utf-8-sig', index=False) \n",
        "# files.download('FF_Data_Wk5.csv')"
      ],
      "metadata": {
        "id": "R4TkXm-zddr3"
      },
      "execution_count": 35,
      "outputs": []
    }
  ]
}